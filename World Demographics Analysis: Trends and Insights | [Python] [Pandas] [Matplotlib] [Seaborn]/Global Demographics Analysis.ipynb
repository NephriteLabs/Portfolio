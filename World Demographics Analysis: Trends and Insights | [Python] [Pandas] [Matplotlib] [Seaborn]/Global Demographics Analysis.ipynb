{
  "nbformat": 4,
  "nbformat_minor": 0,
  "metadata": {
    "colab": {
      "provenance": []
    },
    "kernelspec": {
      "name": "python3",
      "display_name": "Python 3"
    },
    "language_info": {
      "name": "python"
    }
  },
  "cells": [
    {
      "cell_type": "code",
      "execution_count": 84,
      "metadata": {
        "id": "t30EJskeFVa4"
      },
      "outputs": [],
      "source": [
        "# importing libraries in python\n",
        "\n",
        "import pandas as pd\n",
        "import matplotlib.pyplot as plt\n",
        "import seaborn as sns\n",
        "import warnings"
      ]
    },
    {
      "cell_type": "code",
      "source": [
        "# importing data from Excel file \"world_population\" into a DataFrame\n",
        "\n",
        "df_excel = pd.read_excel('world_population.xlsx', sheet_name='world_population')"
      ],
      "metadata": {
        "id": "nAjnBykOPaVn"
      },
      "execution_count": 2,
      "outputs": []
    },
    {
      "cell_type": "code",
      "source": [
        "# reading data from a CSV file into a DataFrame\n",
        "# df_csv = pd.read_csv('data.csv')"
      ],
      "metadata": {
        "id": "mV7HiGrePUMP"
      },
      "execution_count": 3,
      "outputs": []
    },
    {
      "cell_type": "code",
      "source": [
        "# adding DataFrame to the table together with the formatting specs\n",
        "\n",
        "df = pd.DataFrame(df_excel)\n",
        "pd.set_option('display.expand_frame_repr', False) # expanding the table to show it in one row\n",
        "pd.set_option('display.max_colwidth', 20)  # set maximum column width to 40 characters\n",
        "print(df)"
      ],
      "metadata": {
        "colab": {
          "base_uri": "https://localhost:8080/"
        },
        "id": "CDFs-o2zGxkj",
        "outputId": "54365dab-4724-4ae8-99f8-3edefc878b65"
      },
      "execution_count": 4,
      "outputs": [
        {
          "output_type": "stream",
          "name": "stdout",
          "text": [
            "     Rank CCA3            Country           Capital Continent      2022      2020      2015      2010      2000      1990      1980      1970  Area (km²)  Density (per km²)  Growth Rate  World Population Percentage (2022)\n",
            "0      36  AFG        Afghanistan             Kabul      Asia  41128771  38972230  33753499  28189672  19542982  10694796  12486631  10752971      652230            63.0587       1.0257             0.005158               \n",
            "1     138  ALB            Albania            Tirana    Europe   2842321   2866849   2882481   2913399   3182021   3295066   2941651   2324731       28748            98.8702       0.9957             0.000356               \n",
            "2      34  DZA            Algeria           Algiers    Africa  44903225  43451666  39543154  35856344  30774621  25518074  18739378  13795915     2381741            18.8531       1.0164             0.005632               \n",
            "3     213  ASM     American Samoa         Pago Pago   Oceania     44273     46189     51368     54849     58230     47818     32886     27075         199           222.4774       0.9831             0.000006               \n",
            "4     203  AND            Andorra  Andorra la Vella    Europe     79824     77700     71746     71519     66097     53569     35611     19860         468           170.5641       1.0100             0.000010               \n",
            "..    ...  ...                ...               ...       ...       ...       ...       ...       ...       ...       ...       ...       ...         ...                ...          ...                  ...               \n",
            "229   226  WLF  Wallis and Futuna          Mata-Utu   Oceania     11572     11655     12182     13142     14723     13454     11315      9377         142            81.4930       0.9953             0.000001               \n",
            "230   172  ESH     Western Sahara         El AaiÃºn    Africa    575986    556048    491824    413296    270375    178529    116775     76371      266000             2.1654       1.0184             0.000072               \n",
            "231    46  YEM              Yemen             Sanaa      Asia  33696614  32284046  28516545  24743946  18628700  13375121   9204938   6843607      527968            63.8232       1.0217             0.004226               \n",
            "232    63  ZMB             Zambia            Lusaka    Africa  20017675  18927715  16248230  13792086   9891136   7686401   5720438   4281671      752612            26.5976       1.0280             0.002511               \n",
            "233    74  ZWE           Zimbabwe            Harare    Africa  16320537  15669666  14154937  12839771  11834676  10113893   7049926   5202918      390757            41.7665       1.0204             0.002047               \n",
            "\n",
            "[234 rows x 17 columns]\n"
          ]
        }
      ]
    },
    {
      "cell_type": "code",
      "source": [
        "# displaying the first 30 rows of the DataFrame using head function\n",
        "\n",
        "print(df.head(30))"
      ],
      "metadata": {
        "colab": {
          "base_uri": "https://localhost:8080/"
        },
        "id": "yrCbQMGOSvFx",
        "outputId": "084f56f9-2572-4269-df6c-388f58a0167d"
      },
      "execution_count": 5,
      "outputs": [
        {
          "output_type": "stream",
          "name": "stdout",
          "text": [
            "    Rank CCA3              Country              Capital      Continent       2022       2020       2015       2010       2000       1990       1980      1970  Area (km²)  Density (per km²)  Growth Rate  World Population Percentage (2022)\n",
            "0     36  AFG          Afghanistan                Kabul           Asia   41128771   38972230   33753499   28189672   19542982   10694796   12486631  10752971      652230            63.0587       1.0257             0.005158               \n",
            "1    138  ALB              Albania               Tirana         Europe    2842321    2866849    2882481    2913399    3182021    3295066    2941651   2324731       28748            98.8702       0.9957             0.000356               \n",
            "2     34  DZA              Algeria              Algiers         Africa   44903225   43451666   39543154   35856344   30774621   25518074   18739378  13795915     2381741            18.8531       1.0164             0.005632               \n",
            "3    213  ASM       American Samoa            Pago Pago        Oceania      44273      46189      51368      54849      58230      47818      32886     27075         199           222.4774       0.9831             0.000006               \n",
            "4    203  AND              Andorra     Andorra la Vella         Europe      79824      77700      71746      71519      66097      53569      35611     19860         468           170.5641       1.0100             0.000010               \n",
            "5     42  AGO               Angola               Luanda         Africa   35588987   33428485   28127721   23364185   16394062   11828638    8330047   6029700     1246700            28.5466       1.0315             0.004463               \n",
            "6    224  AIA             Anguilla           The Valley  North America      15857      15585      14525      13172      11047       8316       6560      6283          91           174.2527       1.0066             0.000002               \n",
            "7    201  ATG  Antigua and Barbuda       Saint Johnâ€™s  North America      93763      92664      89941      85695      75055      63328      64888     64516         442           212.1335       1.0058             0.000012               \n",
            "8     33  ARG            Argentina         Buenos Aires  South America   45510318   45036032   43257065   41100123   37070774   32637657   28024803  23842803     2780400            16.3683       1.0052             0.005708               \n",
            "9    140  ARM              Armenia              Yerevan           Asia    2780469    2805608    2878595    2946293    3168523    3556539    3135123   2534377       29743            93.4831       0.9962             0.000349               \n",
            "10   198  ABW                Aruba           Oranjestad  North America     106445     106585     104257     100341      89101      65712      62267     59106         180           591.3611       0.9991             0.000013               \n",
            "11    55  AUS            Australia             Canberra        Oceania   26177413   25670051   23820236   22019168   19017963   17048003   14706322  12595034     7692024             3.4032       1.0099             0.003283               \n",
            "12    99  AUT              Austria               Vienna         Europe    8939617    8907777    8642421    8362829    8010428    7678729    7547561   7465301       83871           106.5877       1.0020             0.001121               \n",
            "13    91  AZE           Azerbaijan                 Baku           Asia   10358074   10284951    9863480    9237202    8190337    7427836    6383060   5425317       86600           119.6082       1.0044             0.001299               \n",
            "14   176  BHS              Bahamas               Nassau  North America     409984     406471     392697     373272     325014     270679     223752    179129       13943            29.4043       1.0051             0.000051               \n",
            "15   154  BHR              Bahrain               Manama           Asia    1472233    1477469    1362142    1213645     711442     517418     362595    222555         765          1924.4876       1.0061             0.000185               \n",
            "16     8  BGD           Bangladesh                Dhaka           Asia  171186372  167420951  157830000  148391139  129193327  107147651   83929765  67541860      147570          1160.0350       1.0108             0.021470               \n",
            "17   186  BRB             Barbados           Bridgetown  North America     281635     280693     278083     274711     264657     258868     253575    241397         430           654.9651       1.0015             0.000035               \n",
            "18    96  BLR              Belarus                Minsk         Europe    9534954    9633740    9700609    9731427   10256483   10428525    9817257   9170786      207600            45.9295       0.9955             0.001196               \n",
            "19    81  BEL              Belgium             Brussels         Europe   11655930   11561717   11248303   10877947   10264343    9959560    9828986   9629376       30528           381.8111       1.0038             0.001462               \n",
            "20   177  BLZ               Belize             Belmopan  North America     405272     394921     359871     322106     240406     182589     145133    120905       22966            17.6466       1.0131             0.000051               \n",
            "21    77  BEN                Benin           Porto-Novo         Africa   13352864   12643123   10932783    9445710    6998023    5133419    3833939   3023443      112622           118.5635       1.0274             0.001675               \n",
            "22   206  BMU              Bermuda             Hamilton  North America      64184      64031      63144      63447      61371      57470      53565     52019          54          1188.5926       1.0000             0.000008               \n",
            "23   165  BTN               Bhutan              Thimphu           Asia     782455     772506     743274     705516     587207     558442     415257    298894       38394            20.3796       1.0064             0.000098               \n",
            "24    80  BOL              Bolivia                Sucre  South America   12224110   11936162   11090085   10223270    8592656    7096194    5736088   4585693     1098581            11.1272       1.0120             0.001533               \n",
            "25   137  BIH  Bosnia and Herze...             Sarajevo         Europe    3233526    3318407    3524324    3811088    4179350    4494310    4199820   3815561       51209            63.1437       0.9886             0.000406               \n",
            "26   144  BWA             Botswana             Gaborone         Africa    2630296    2546402    2305171    2091664    1726985    1341474     938578    592244      582000             4.5194       1.0162             0.000330               \n",
            "27     7  BRA               Brazil             Brasilia  South America  215313498  213196304  205188205  196353492  175873720  150706446  122288383  96369875     8515767            25.2841       1.0046             0.027004               \n",
            "28   221  VGB  British Virgin I...            Road Town  North America      31305      30910      29366      27556      20104      15617      11109      9581         151           207.3179       1.0059             0.000004               \n",
            "29   175  BRN               Brunei  Bandar Seri Begawan           Asia     449002     441725     421437     396053     333926     261928     187921    133343        5765            77.8841       1.0081             0.000056               \n"
          ]
        }
      ]
    },
    {
      "cell_type": "code",
      "source": [
        "# displaying the last 20 rows of the DataFrame using tail function\n",
        "\n",
        "print(df.tail(20))"
      ],
      "metadata": {
        "colab": {
          "base_uri": "https://localhost:8080/"
        },
        "id": "aDmO_C4lSvwy",
        "outputId": "4d6fb41d-b8da-475a-811a-53e5ab3603a0"
      },
      "execution_count": 6,
      "outputs": [
        {
          "output_type": "stream",
          "name": "stdout",
          "text": [
            "     Rank CCA3              Country           Capital      Continent       2022       2020       2015       2010       2000       1990       1980       1970  Area (km²)  Density (per km²)  Growth Rate  World Population Percentage (2022)\n",
            "214   111  TKM         Turkmenistan          Ashgabat           Asia    6430770    6250438    5766431    5267970    4569132    3720278    2862903    2201432      488100            13.1751       1.0140         8.065264e-04               \n",
            "215   212  TCA  Turks and Caicos...     Cockburn Town  North America      45703      44276      36538      29726      18744      11709       7598       5665         948            48.2099       1.0131         5.731923e-06               \n",
            "216   227  TUV               Tuvalu          Funafuti        Oceania      11312      11069      10877      10550       9638       9182       7731       5814          26           435.0769       1.0096         1.418715e-06               \n",
            "217    31  UGA               Uganda           Kampala         Africa   47249585   44404611   37477356   32341728   24020697   17586630   13284026   10317212      241550           195.6100       1.0304         5.925891e-03               \n",
            "218    38  UKR              Ukraine              Kiev         Europe   39701739   43909666   44982564   45683020   48879755   51589817   49973920   47279086      603500            65.7858       0.9120         4.979264e-03               \n",
            "219    97  ARE  United Arab Emir...         Abu Dhabi           Asia    9441129    9287289    8916899    8481771    3275333    1900151    1014048     298084       83600           112.9322       1.0081         1.184076e-03               \n",
            "220    21  GBR       United Kingdom            London         Europe   67508936   67059474   65224364   62760039   58850043   57210442   56326328   55650166      242900           277.9289       1.0034         8.466753e-03               \n",
            "221     3  USA        United States  Washington, D.C.  North America  338289857  335942003  324607776  311182845  282398554  248083732  223140018  200328340     9372610            36.0935       1.0038         4.242722e-02               \n",
            "222   200  VIR  United States Vi...  Charlotte Amalie  North America      99465     100442     102803     106142     108185     100685      96640      63446         347           286.6427       0.9937         1.247458e-05               \n",
            "223   133  URY              Uruguay        Montevideo  South America    3422794    3429086    3402818    3352651    3292224    3117012    2953750    2790265      181034            18.9069       0.9990         4.292758e-04               \n",
            "224    43  UZB           Uzbekistan          Tashkent           Asia   34627652   33526656   30949417   28614227   24925554   20579100   15947129   12011361      447400            77.3975       1.0160         4.342888e-03               \n",
            "225   181  VUT              Vanuatu         Port-Vila        Oceania     326740     311685     276438     245453     192074     150882     118156      87019       12189            26.8061       1.0238         4.097868e-05               \n",
            "226   234  VAT         Vatican City      Vatican City         Europe        510        520        564        596        651        700        733        752           1           510.0000       0.9980         6.396256e-08               \n",
            "227    51  VEN            Venezuela           Caracas  South America   28301696   28490453   30529716   28715022   24427729   19750579   15210443   11355475      916445            30.8820       1.0036         3.549507e-03               \n",
            "228    16  VNM              Vietnam             Hanoi           Asia   98186856   96648685   92191398   87411012   79001142   66912613   52968270   41928849      331212           296.4472       1.0074         1.231428e-02               \n",
            "229   226  WLF    Wallis and Futuna          Mata-Utu        Oceania      11572      11655      12182      13142      14723      13454      11315       9377         142            81.4930       0.9953         1.451323e-06               \n",
            "230   172  ESH       Western Sahara         El AaiÃºn         Africa     575986     556048     491824     413296     270375     178529     116775      76371      266000             2.1654       1.0184         7.223831e-05               \n",
            "231    46  YEM                Yemen             Sanaa           Asia   33696614   32284046   28516545   24743946   18628700   13375121    9204938    6843607      527968            63.8232       1.0217         4.226121e-03               \n",
            "232    63  ZMB               Zambia            Lusaka         Africa   20017675   18927715   16248230   13792086    9891136    7686401    5720438    4281671      752612            26.5976       1.0280         2.510552e-03               \n",
            "233    74  ZWE             Zimbabwe            Harare         Africa   16320537   15669666   14154937   12839771   11834676   10113893    7049926    5202918      390757            41.7665       1.0204         2.046869e-03               \n"
          ]
        }
      ]
    },
    {
      "cell_type": "code",
      "source": [
        "# summary statistics of numerical columns in the dataset using describe function\n",
        "\n",
        "print(df.describe())"
      ],
      "metadata": {
        "colab": {
          "base_uri": "https://localhost:8080/"
        },
        "id": "RHWduFWhSv41",
        "outputId": "8b4d8c4b-d2f7-417e-f95f-dc2c006a257e"
      },
      "execution_count": 7,
      "outputs": [
        {
          "output_type": "stream",
          "name": "stdout",
          "text": [
            "             Rank          2022          2020          2015          2010          2000          1990          1980          1970    Area (km²)  Density (per km²)  Growth Rate  World Population Percentage (2022)\n",
            "count  234.000000  2.340000e+02  2.340000e+02  2.340000e+02  2.340000e+02  2.340000e+02  2.340000e+02  2.340000e+02  2.340000e+02  2.340000e+02         234.000000   234.000000         2.340000e+02               \n",
            "mean   117.500000  3.407441e+07  3.350107e+07  3.172996e+07  2.984524e+07  2.626947e+07  2.271022e+07  1.898462e+07  1.578691e+07  5.814494e+05         452.127044     1.009577         4.273503e-03               \n",
            "std     67.694165  1.367664e+08  1.355899e+08  1.304050e+08  1.242185e+08  1.116982e+08  9.783217e+07  8.178519e+07  6.779509e+07  1.761841e+06        2066.121904     0.013385         1.715280e-02               \n",
            "min      1.000000  5.100000e+02  5.200000e+02  5.640000e+02  5.960000e+02  6.510000e+02  7.000000e+02  7.330000e+02  7.520000e+02  1.000000e+00           0.026100     0.912000         6.396256e-08               \n",
            "25%     59.250000  4.197385e+05  4.152845e+05  4.046760e+05  3.931490e+05  3.272420e+05  2.641158e+05  2.296142e+05  1.559970e+05  2.650000e+03          38.417875     1.001775         5.264225e-05               \n",
            "50%    117.500000  5.559944e+06  5.493074e+06  5.307400e+06  4.942770e+06  4.292907e+06  3.825410e+06  3.141146e+06  2.604830e+06  8.119950e+04          95.346750     1.007900         6.973103e-04               \n",
            "75%    175.750000  2.247650e+07  2.144798e+07  1.973085e+07  1.915957e+07  1.576230e+07  1.186923e+07  9.826054e+06  8.817329e+06  4.304258e+05         238.933250     1.016950         2.818931e-03               \n",
            "max    234.000000  1.425887e+09  1.424930e+09  1.393715e+09  1.348191e+09  1.264099e+09  1.153704e+09  9.823725e+08  8.225344e+08  1.709824e+07       23172.266700     1.069100         1.788302e-01               \n"
          ]
        }
      ]
    },
    {
      "cell_type": "code",
      "source": [
        "# accessing a Capital column\n",
        "\n",
        "name_column = df['Capital']\n",
        "print(name_column)"
      ],
      "metadata": {
        "id": "0-ZviidlIlv-",
        "colab": {
          "base_uri": "https://localhost:8080/"
        },
        "outputId": "a82ebc1e-3e32-410b-b7cf-a64b42d381b0"
      },
      "execution_count": 8,
      "outputs": [
        {
          "output_type": "stream",
          "name": "stdout",
          "text": [
            "0                 Kabul\n",
            "1                Tirana\n",
            "2               Algiers\n",
            "3             Pago Pago\n",
            "4      Andorra la Vella\n",
            "             ...       \n",
            "229            Mata-Utu\n",
            "230           El AaiÃºn\n",
            "231               Sanaa\n",
            "232              Lusaka\n",
            "233              Harare\n",
            "Name: Capital, Length: 234, dtype: object\n"
          ]
        }
      ]
    },
    {
      "cell_type": "code",
      "source": [
        "# accessing row using .loc[]\n",
        "\n",
        "row_31 = df.loc[30]\n",
        "pd.set_option('display.max_colwidth', None)  # show full content of columns\n",
        "print(row_31)"
      ],
      "metadata": {
        "id": "j_9IpSHOKRRO",
        "colab": {
          "base_uri": "https://localhost:8080/"
        },
        "outputId": "b5be0656-f63a-43d8-f6fc-41ab9c3101c9"
      },
      "execution_count": 9,
      "outputs": [
        {
          "output_type": "stream",
          "name": "stdout",
          "text": [
            "Rank                                       108\n",
            "CCA3                                       BGR\n",
            "Country                               Bulgaria\n",
            "Capital                                  Sofia\n",
            "Continent                               Europe\n",
            "2022                                   6781953\n",
            "2020                                   6979175\n",
            "2015                                   7309253\n",
            "2010                                   7592273\n",
            "2000                                   8097691\n",
            "1990                                   8767778\n",
            "1980                                   8980606\n",
            "1970                                   8582950\n",
            "Area (km²)                              110879\n",
            "Density (per km²)                      61.1654\n",
            "Growth Rate                             0.9849\n",
            "World Population Percentage (2022)    0.000851\n",
            "Name: 30, dtype: object\n"
          ]
        }
      ]
    },
    {
      "cell_type": "code",
      "source": [
        "# accessing value in the Country column using .loc[]\n",
        "\n",
        "column = 'Country'\n",
        "index = 26\n",
        "country_value = df.loc[index, column]\n",
        "print(f\"Accessing the {column} value of the row with index {index}:\")\n",
        "print() # adding a blank line for formatting purposes\n",
        "print(country_value)"
      ],
      "metadata": {
        "id": "bFEXyrUdJhPG",
        "colab": {
          "base_uri": "https://localhost:8080/"
        },
        "outputId": "83a894e8-e644-4295-c5ef-1b92b4e1e898"
      },
      "execution_count": 10,
      "outputs": [
        {
          "output_type": "stream",
          "name": "stdout",
          "text": [
            "Accessing the Country value of the row with index 26:\n",
            "\n",
            "Botswana\n"
          ]
        }
      ]
    },
    {
      "cell_type": "code",
      "source": [
        "# accessing row using .iloc[]\n",
        "\n",
        "row_112 = df.iloc[111]\n",
        "print(row_112)"
      ],
      "metadata": {
        "id": "wGw-0QBrKW-r",
        "colab": {
          "base_uri": "https://localhost:8080/"
        },
        "outputId": "7237fdf6-fdc5-4cd0-f0e4-8898769d6aa6"
      },
      "execution_count": 11,
      "outputs": [
        {
          "output_type": "stream",
          "name": "stdout",
          "text": [
            "Rank                                       151\n",
            "CCA3                                       LVA\n",
            "Country                                 Latvia\n",
            "Capital                                   Riga\n",
            "Continent                               Europe\n",
            "2022                                   1850651\n",
            "2020                                   1897052\n",
            "2015                                   1991955\n",
            "2010                                   2101530\n",
            "2000                                   2392530\n",
            "1990                                   2689391\n",
            "1980                                   2572037\n",
            "1970                                   2397414\n",
            "Area (km²)                               64559\n",
            "Density (per km²)                       28.666\n",
            "Growth Rate                             0.9876\n",
            "World Population Percentage (2022)    0.000232\n",
            "Name: 111, dtype: object\n"
          ]
        }
      ]
    },
    {
      "cell_type": "code",
      "source": [
        "# finding 2022th population for the country ranking 18 using .iloc[]\n",
        "\n",
        "row_index = df[df['Rank'] == 18].index[0] # locating the index of the row where the 'Rank' column has the value 18\n",
        "population_value = df.at[row_index, 2022] # getting the value of the '2020' column for the country ranking 18th\n",
        "\n",
        "# getting info on population for the chosen country\n",
        "population_info = df.iloc[row_index]\n",
        "\n",
        "print(population_info)\n",
        "print()\n",
        "print(\"Population in 2022:\", population_value)"
      ],
      "metadata": {
        "id": "Es5wgEfAJ3GH",
        "colab": {
          "base_uri": "https://localhost:8080/"
        },
        "outputId": "4fb1f022-8208-4846-bb8e-c6b7de5ce8bb"
      },
      "execution_count": 12,
      "outputs": [
        {
          "output_type": "stream",
          "name": "stdout",
          "text": [
            "Rank                                        18\n",
            "CCA3                                       TUR\n",
            "Country                                 Turkey\n",
            "Capital                                 Ankara\n",
            "Continent                                 Asia\n",
            "2022                                  85341241\n",
            "2020                                  84135428\n",
            "2015                                  79646178\n",
            "2010                                  73195345\n",
            "2000                                  64113547\n",
            "1990                                  54324142\n",
            "1980                                  44089069\n",
            "1970                                  35540990\n",
            "Area (km²)                              783562\n",
            "Density (per km²)                     108.9145\n",
            "Growth Rate                             1.0067\n",
            "World Population Percentage (2022)    0.010703\n",
            "Name: 213, dtype: object\n",
            "\n",
            "Population in 2022: 85341241\n"
          ]
        }
      ]
    },
    {
      "cell_type": "code",
      "source": [
        "# selecting Capital column using square brackets\n",
        "\n",
        "name_column = df['Capital']\n",
        "print(\"Selected Capital column:\")\n",
        "print()\n",
        "print(name_column)"
      ],
      "metadata": {
        "id": "jUEIcPWBK8T1",
        "colab": {
          "base_uri": "https://localhost:8080/"
        },
        "outputId": "1554e919-1e9c-4b3c-888b-6f06105187d1"
      },
      "execution_count": 13,
      "outputs": [
        {
          "output_type": "stream",
          "name": "stdout",
          "text": [
            "Selected Capital column:\n",
            "\n",
            "0                 Kabul\n",
            "1                Tirana\n",
            "2               Algiers\n",
            "3             Pago Pago\n",
            "4      Andorra la Vella\n",
            "             ...       \n",
            "229            Mata-Utu\n",
            "230           El AaiÃºn\n",
            "231               Sanaa\n",
            "232              Lusaka\n",
            "233              Harare\n",
            "Name: Capital, Length: 234, dtype: object\n"
          ]
        }
      ]
    },
    {
      "cell_type": "code",
      "source": [
        "# selecting multiple columns, Country and Capital\n",
        "\n",
        "selected_columns = df[['Country', 'Capital']]\n",
        "print(\"\\nSelected Country and Capital columns:\")\n",
        "pd.set_option('display.max_colwidth', None)  # show full content of columns\n",
        "print()\n",
        "print(selected_columns)"
      ],
      "metadata": {
        "id": "McrANYGuLHVm",
        "colab": {
          "base_uri": "https://localhost:8080/"
        },
        "outputId": "d5bcbd5e-359b-447f-e45a-baa559dd2147"
      },
      "execution_count": 14,
      "outputs": [
        {
          "output_type": "stream",
          "name": "stdout",
          "text": [
            "\n",
            "Selected Country and Capital columns:\n",
            "\n",
            "               Country           Capital\n",
            "0          Afghanistan             Kabul\n",
            "1              Albania            Tirana\n",
            "2              Algeria           Algiers\n",
            "3       American Samoa         Pago Pago\n",
            "4              Andorra  Andorra la Vella\n",
            "..                 ...               ...\n",
            "229  Wallis and Futuna          Mata-Utu\n",
            "230     Western Sahara         El AaiÃºn\n",
            "231              Yemen             Sanaa\n",
            "232             Zambia            Lusaka\n",
            "233           Zimbabwe            Harare\n",
            "\n",
            "[234 rows x 2 columns]\n"
          ]
        }
      ]
    },
    {
      "cell_type": "code",
      "source": [
        "# selecting multiple rows with indices 30 and 41\n",
        "\n",
        "selected_rows_loc = df.loc[[30, 41]]\n",
        "print(\"\\nSelected rows with indices 30 and 41 using .loc[]:\")\n",
        "pd.set_option('display.max_colwidth', 40)  # set maximum column width to 40 characters\n",
        "print()\n",
        "print(selected_rows_loc)"
      ],
      "metadata": {
        "id": "QZcW2CeqLM1-",
        "colab": {
          "base_uri": "https://localhost:8080/"
        },
        "outputId": "cf73b13f-ee83-4507-e195-320679fda7e0"
      },
      "execution_count": 15,
      "outputs": [
        {
          "output_type": "stream",
          "name": "stdout",
          "text": [
            "\n",
            "Selected rows with indices 30 and 41 using .loc[]:\n",
            "\n",
            "    Rank CCA3   Country  Capital Continent        2022        2020        2015        2010        2000        1990       1980       1970  Area (km²)  Density (per km²)  Growth Rate  World Population Percentage (2022)\n",
            "30   108  BGR  Bulgaria    Sofia    Europe     6781953     6979175     7309253     7592273     8097691     8767778    8980606    8582950      110879            61.1654       0.9849                            0.000851\n",
            "41     1  CHN     China  Beijing      Asia  1425887337  1424929781  1393715448  1348191368  1264099069  1153704252  982372466  822534450     9706961           146.8933       1.0000                            0.178830\n"
          ]
        }
      ]
    },
    {
      "cell_type": "code",
      "source": [
        "# using .iloc[] to select rows by integer index\n",
        "\n",
        "row_2 = df.iloc[19]\n",
        "print(\"\\nSelected row with integer index 19:\")\n",
        "print(row_2)"
      ],
      "metadata": {
        "id": "3A2bFHBoLQPX",
        "colab": {
          "base_uri": "https://localhost:8080/"
        },
        "outputId": "68f263da-d5ba-4cf4-a821-7bfe744fdd98"
      },
      "execution_count": 16,
      "outputs": [
        {
          "output_type": "stream",
          "name": "stdout",
          "text": [
            "\n",
            "Selected row with integer index 19:\n",
            "Rank                                        81\n",
            "CCA3                                       BEL\n",
            "Country                                Belgium\n",
            "Capital                               Brussels\n",
            "Continent                               Europe\n",
            "2022                                  11655930\n",
            "2020                                  11561717\n",
            "2015                                  11248303\n",
            "2010                                  10877947\n",
            "2000                                  10264343\n",
            "1990                                   9959560\n",
            "1980                                   9828986\n",
            "1970                                   9629376\n",
            "Area (km²)                               30528\n",
            "Density (per km²)                     381.8111\n",
            "Growth Rate                             1.0038\n",
            "World Population Percentage (2022)    0.001462\n",
            "Name: 19, dtype: object\n"
          ]
        }
      ]
    },
    {
      "cell_type": "code",
      "source": [
        "# selecting multiple rows with integer indices 156 and 33\n",
        "\n",
        "selected_rows_iloc = df.iloc[[156, 33]]\n",
        "print(\"\\nSelected rows with integer indices 156 and 33 using .iloc[]:\")\n",
        "print(selected_rows_iloc)"
      ],
      "metadata": {
        "id": "sAG-7MWPLR4C",
        "colab": {
          "base_uri": "https://localhost:8080/"
        },
        "outputId": "de9c6f57-a104-42ec-8315-72953d7cadd2"
      },
      "execution_count": 17,
      "outputs": [
        {
          "output_type": "stream",
          "name": "stdout",
          "text": [
            "\n",
            "Selected rows with integer indices 156 and 33 using .iloc[]:\n",
            "     Rank CCA3   Country     Capital Continent       2022       2020       2015       2010       2000       1990      1980      1970  Area (km²)  Density (per km²)  Growth Rate  World Population Percentage (2022)\n",
            "156     5  PAK  Pakistan   Islamabad      Asia  235824862  227196741  210969298  194454498  154369924  115414069  80624057  59290872      881912           267.4018       1.0191                            0.029576\n",
            "33     73  KHM  Cambodia  Phnom Penh      Asia   16767842   16396860   15417523   14363532   12118841    8910808   6198959   6708525      181035            92.6221       1.0108                            0.002103\n"
          ]
        }
      ]
    },
    {
      "cell_type": "code",
      "source": [
        "# sorting data\n",
        "\n",
        "sort_1970 = df.sort_values(by=1970, ascending = False) # sort data on 2022 population in asscending order\n",
        "\n",
        "print(\"\\nTable sorted by population numbers from 1970:\")\n",
        "print()\n",
        "pd.set_option('display.expand_frame_repr', False)\n",
        "print(sort_1970)"
      ],
      "metadata": {
        "id": "rD-MbWRQZZKt",
        "colab": {
          "base_uri": "https://localhost:8080/"
        },
        "outputId": "154eecd6-688e-4194-db0b-45cadf77e7df"
      },
      "execution_count": 23,
      "outputs": [
        {
          "output_type": "stream",
          "name": "stdout",
          "text": [
            "\n",
            "Table sorted by population numbers from 1970:\n",
            "\n",
            "     Rank CCA3           Country           Capital      Continent        2022        2020        2015        2010        2000        1990       1980       1970  Area (km²)  Density (per km²)  Growth Rate  World Population Percentage (2022)\n",
            "41      1  CHN             China           Beijing           Asia  1425887337  1424929781  1393715448  1348191368  1264099069  1153704252  982372466  822534450     9706961           146.8933       1.0000                        1.788302e-01\n",
            "92      2  IND             India         New Delhi           Asia  1417173173  1396387127  1322866505  1240613620  1059633675   870452165  696828385  557501301     3287590           431.0675       1.0068                        1.777373e-01\n",
            "221     3  USA     United States  Washington, D.C.  North America   338289857   335942003   324607776   311182845   282398554   248083732  223140018  200328340     9372610            36.0935       1.0038                        4.242722e-02\n",
            "171     9  RUS            Russia            Moscow         Europe   144713314   145617329   144668389   143242599   146844839   148005704  138257420  130093010    17098242             8.4636       0.9973                        1.814948e-02\n",
            "93      4  IDN         Indonesia           Jakarta           Asia   275501339   271857970   259091970   244016173   214072421   182159874  148177096  115228394     1904569           144.6529       1.0064                        3.455249e-02\n",
            "..    ...  ...               ...               ...            ...         ...         ...         ...         ...         ...         ...        ...        ...         ...                ...          ...                                 ...\n",
            "150   232  NIU              Niue             Alofi        Oceania        1934        1942        1847        1812        2074        2533       3637       5185         260             7.4385       0.9985                        2.425560e-07\n",
            "173   228  BLM  Saint Barthelemy          Gustavia  North America       10967       10681        9643        8988        7082        5168       2983       2417          21           522.2381       1.0098                        1.375446e-06\n",
            "64    231  FLK  Falkland Islands           Stanley  South America        3780        3747        3408        3187        3080        2332       2240       2274       12173             0.3105       1.0043                        4.740754e-07\n",
            "209   233  TKL           Tokelau          Nukunonu        Oceania        1871        1827        1454        1367        1666        1669       1647       1714          12           155.9167       1.0119                        2.346548e-07\n",
            "226   234  VAT      Vatican City      Vatican City         Europe         510         520         564         596         651         700        733        752           1           510.0000       0.9980                        6.396256e-08\n",
            "\n",
            "[234 rows x 17 columns]\n"
          ]
        }
      ]
    },
    {
      "cell_type": "code",
      "source": [
        "# grouping data\n",
        "\n",
        "grouped_data = df.groupby('Continent').agg({2020: 'sum'}) # grouping the data by continent, calculating total population for 2020 for each continent\n",
        "print(\"\\nTotal population by continent in 2020:\")\n",
        "print()\n",
        "print(grouped_data)"
      ],
      "metadata": {
        "id": "zRZI7G2rZg_Z",
        "colab": {
          "base_uri": "https://localhost:8080/"
        },
        "outputId": "c8931d09-fca7-4038-bcaa-09470cd1b957"
      },
      "execution_count": 29,
      "outputs": [
        {
          "output_type": "stream",
          "name": "stdout",
          "text": [
            "\n",
            "Total population by continent in 2020:\n",
            "\n",
            "                     2020\n",
            "Continent                \n",
            "Africa         1360671810\n",
            "Asia           4663086535\n",
            "Europe          745792196\n",
            "North America   594236593\n",
            "Oceania          43933426\n",
            "South America   431530043\n"
          ]
        }
      ]
    },
    {
      "cell_type": "code",
      "source": [
        "# applying basic filter\n",
        "\n",
        "filtered_data = df[df.Continent == 'Europe'] # filter data for population in Europe only\n",
        "print(\"\\nPopulation in Europe:\")\n",
        "print()\n",
        "pd.set_option('display.expand_frame_repr', False)\n",
        "print(filtered_data)"
      ],
      "metadata": {
        "id": "qlO6STfBUCiW",
        "colab": {
          "base_uri": "https://localhost:8080/"
        },
        "outputId": "d1538880-5845-43ec-f912-add589777187"
      },
      "execution_count": 30,
      "outputs": [
        {
          "output_type": "stream",
          "name": "stdout",
          "text": [
            "\n",
            "Population in Europe:\n",
            "\n",
            "     Rank CCA3                 Country           Capital Continent       2022       2020       2015       2010       2000       1990       1980       1970  Area (km²)  Density (per km²)  Growth Rate  World Population Percentage (2022)\n",
            "1     138  ALB                 Albania            Tirana    Europe    2842321    2866849    2882481    2913399    3182021    3295066    2941651    2324731       28748            98.8702       0.9957                        3.564747e-04\n",
            "4     203  AND                 Andorra  Andorra la Vella    Europe      79824      77700      71746      71519      66097      53569      35611      19860         468           170.5641       1.0100                        1.001127e-05\n",
            "12     99  AUT                 Austria            Vienna    Europe    8939617    8907777    8642421    8362829    8010428    7678729    7547561    7465301       83871           106.5877       1.0020                        1.121178e-03\n",
            "18     96  BLR                 Belarus             Minsk    Europe    9534954    9633740    9700609    9731427   10256483   10428525    9817257    9170786      207600            45.9295       0.9955                        1.195843e-03\n",
            "19     81  BEL                 Belgium          Brussels    Europe   11655930   11561717   11248303   10877947   10264343    9959560    9828986    9629376       30528           381.8111       1.0038                        1.461849e-03\n",
            "25    137  BIH  Bosnia and Herzegovina          Sarajevo    Europe    3233526    3318407    3524324    3811088    4179350    4494310    4199820    3815561       51209            63.1437       0.9886                        4.055384e-04\n",
            "30    108  BGR                Bulgaria             Sofia    Europe    6781953    6979175    7309253    7592273    8097691    8767778    8980606    8582950      110879            61.1654       0.9849                        8.505707e-04\n",
            "46    130  HRV                 Croatia            Zagreb    Europe    4030358    4096868    4254815    4368682    4548434    4873707    4680144    4492638       56594            71.2153       0.9927                        5.054745e-04\n",
            "49    158  CYP                  Cyprus           Nicosia    Europe    1251488    1237537    1187280    1129686     948237     788500     679327     640804        9251           135.2814       1.0059                        1.569576e-04\n",
            "50     88  CZE          Czech Republic            Prague    Europe   10493986   10530953   10523798   10464749   10234710   10301192   10270060    9795744       78865           133.0627       0.9984                        1.316122e-03\n",
            "51    115  DNK                 Denmark        Copenhagen    Europe    5882261    5825641    5677796    5550849    5340655    5144623    5125392    4922963       43094           136.4984       1.0048                        7.377342e-04\n",
            "61    156  EST                 Estonia           Tallinn    Europe    1326062    1329444    1314657    1331535    1396877    1570674    1476983    1361999       45227            29.3201       0.9980                        1.663104e-04\n",
            "65    209  FRO           Faroe Islands         TÃ³rshavn    Europe      53090      52415      48816      48410      45660      47479      43054      38416        1393            38.1120       1.0038                        6.658377e-06\n",
            "67    118  FIN                 Finland          Helsinki    Europe    5540745    5529468    5479461    5363271    5176209    4986545    4779418    4606621      338424            16.3722       1.0009                        6.949024e-04\n",
            "68     23  FRA                  France             Paris    Europe   64626628   64480053   63809769   62444567   58665453   56412897   53713830   50523586      551695           117.1419       1.0015                        8.105263e-03\n",
            "74     19  DEU                 Germany            Berlin    Europe   83369843   83328988   82073226   81325090   81551677   79370196   77786703   78294583      357114           233.4544       0.9995                        1.045598e-02\n",
            "76    219  GIB               Gibraltar         Gibraltar    Europe      32649      32709      32520      31262      27741      27317      28734      26685           6          5441.5000       0.9994                        4.094732e-06\n",
            "77     90  GRC                  Greece            Athens    Europe   10384971   10512232   10806641   11033783   11038109   10302255    9307148    8544873      131990            78.6800       0.9942                        1.302450e-03\n",
            "83    207  GGY                Guernsey  Saint Peter Port    Europe      63301      62794      61629      60782      59114      57727      52860      52656          78           811.5513       1.0037                        7.939007e-06\n",
            "90     94  HUN                 Hungary          Budapest    Europe    9967308    9750573    9844246    9986825   10202055   10375989   10698679   10315366       93028           107.1431       1.0265                        1.250068e-03\n",
            "91    179  ISL                 Iceland        ReykjavÃ­k    Europe     372899     366669     331060     318333     281462     255019     228263     204468      103000             3.6204       1.0069                        4.676779e-05\n",
            "96    125  IRL                 Ireland            Dublin    Europe    5023109    4946119    4665760    4524585    3768950    3485374    3391387    2937637       70273            71.4799       1.0073                        6.299821e-04\n",
            "97    202  IMN             Isle of Man           Douglas    Europe      84519      84046      83593      83828      75562      68865      64022      55298         572           147.7605       1.0030                        1.060010e-05\n",
            "99     25  ITA                   Italy              Rome    Europe   59037474   59500579   60232906   59822450   56966397   56756561   56329482   53324036      301336           195.9191       0.9966                        7.404290e-03\n",
            "103   195  JEY                  Jersey      Saint Helier    Europe     110778     108319     100561      96151      86192      82874      75124      68347         116           954.9828       1.0106                        1.389342e-05\n",
            "111   151  LVA                  Latvia              Riga    Europe    1850651    1897052    1991955    2101530    2392530    2689391    2572037    2397414       64559            28.6660       0.9876                        2.321027e-04\n",
            "116   216  LIE           Liechtenstein             Vaduz    Europe      39327      38756      37355      35926      33026      28765      25003      21089         160           245.7937       1.0074                        4.932265e-06\n",
            "117   141  LTU               Lithuania           Vilnius    Europe    2750055    2820267    2963765    3139019    3599637    3785847    3521206    3210147       65300            42.1142       0.9869                        3.449030e-04\n",
            "118   168  LUX              Luxembourg        Luxembourg    Europe     647599     630399     569408     507070     435628     381267     363741     339342        2586           250.4250       1.0129                        8.121978e-05\n",
            "125   173  MLT                   Malta          Valletta    Europe     533286     515357     456579     418755     399212     365392     333587     315414         316          1687.6139       1.0124                        6.688301e-05\n",
            "133   135  MDA                 Moldova          Chisinau    Europe    3272996    3084847    3277388    3678186    4251573    4480199    4103240    3711140       33846            96.7026       1.0691                        4.104886e-04\n",
            "134   217  MCO                  Monaco            Monaco    Europe      36469      36922      36760      33178      32465      30329      27076      24270           2         18234.5000       0.9941                        4.573824e-06\n",
            "136   169  MNE              Montenegro         Podgorica    Europe     627082     629048     633966     631044     633324     621442     589324     530268       13812            45.4012       0.9988                        7.864660e-05\n",
            "144    71  NLD             Netherlands         Amsterdam    Europe   17564014   17434557   17041107   16617116   15899135   14944548   14130387   13037686       41850           419.6897       1.0036                        2.202822e-03\n",
            "152   150  MKD         North Macedonia            Skopje    Europe    2093599    2111072    2107962    2093828    2037936    2044174    1907023    1656783       25713            81.4218       0.9954                        2.625724e-04\n",
            "154   120  NOR                  Norway              Oslo    Europe    5434319    5379839    5190356    4889741    4491202    4241636    4085776    3875546      323802            16.7828       1.0058                        6.815548e-04\n",
            "164    37  POL                  Poland            Warsaw    Europe   39857145   38428366   38553146   38597353   38504431   38064255   35521429   32482943      312679           127.4698       1.0404                        4.998755e-03\n",
            "165    92  PRT                Portugal            Lisbon    Europe   10270865   10298192   10365435   10588401   10300626   10007346    9785252    8683631       92090           111.5307       0.9981                        1.288139e-03\n",
            "170    64  ROU                 Romania         Bucharest    Europe   19659267   19442038   19906079   20335211   21919876   22836234   22125224   19922618      238391            82.4665       1.0171                        2.465602e-03\n",
            "171     9  RUS                  Russia            Moscow    Europe  144713314  145617329  144668389  143242599  146844839  148005704  138257420  130093010    17098242             8.4636       0.9973                        1.814948e-02\n",
            "180   218  SMR              San Marino        San Marino    Europe      33660      34007      33570      31608      26823      23132      21346      18169          61           551.8033       0.9975                        4.221529e-06\n",
            "184   105  SRB                  Serbia          Belgrade    Europe    7221365    7358005    7519496    7653748    7935022    7987529    7777010    7193533       88361            81.7257       0.9897                        9.056803e-04\n",
            "189   116  SVK                Slovakia        Bratislava    Europe    5643453    5456681    5424444    5396424    5376690    5261305    4973883    4522867       49037           115.0856       1.0359                        7.077837e-04\n",
            "190   148  SVN                Slovenia         Ljubljana    Europe    2119844    2117641    2080862    2057286    1984339    1986024    1901570    1741286       20273           104.5649       1.0002                        2.658640e-04\n",
            "196    30  ESP                   Spain            Madrid    Europe   47558630   47363807   46431342   46572772   40741651   38889889   37491666   33792617      505992            93.9909       1.0015                        5.964650e-03\n",
            "200    87  SWE                  Sweden         Stockholm    Europe   10549347   10368969    9849349    9381729    8871043    8548406    8311763    8027702      450295            23.4276       1.0079                        1.323065e-03\n",
            "201   101  CHE             Switzerland              Bern    Europe    8740472    8638613    8281732    7822435    7182059    6711693    6319113    6181227       41284           211.7157       1.0056                        1.096202e-03\n",
            "218    38  UKR                 Ukraine              Kiev    Europe   39701739   43909666   44982564   45683020   48879755   51589817   49973920   47279086      603500            65.7858       0.9120                        4.979264e-03\n",
            "220    21  GBR          United Kingdom            London    Europe   67508936   67059474   65224364   62760039   58850043   57210442   56326328   55650166      242900           277.9289       1.0034                        8.466753e-03\n",
            "226   234  VAT            Vatican City      Vatican City    Europe        510        520        564        596        651        700        733        752           1           510.0000       0.9980                        6.396256e-08\n"
          ]
        }
      ]
    },
    {
      "cell_type": "code",
      "source": [
        "# applying multiple filters\n",
        "\n",
        "multi_filter_data = df[(df.Continent == 'Asia') & (df.Rank >= 100)] # showing countries in Asia ranking 100+ on the list\n",
        "print(multi_filter_data)"
      ],
      "metadata": {
        "id": "P47dO7adUCih",
        "colab": {
          "base_uri": "https://localhost:8080/"
        },
        "outputId": "f5da25cd-f30e-47ea-a1ec-78d96418f891"
      },
      "execution_count": 38,
      "outputs": [
        {
          "output_type": "stream",
          "name": "stdout",
          "text": [
            "     Rank CCA3       Country              Capital Continent     2022     2020     2015     2010     2000     1990     1980     1970  Area (km²)  Density (per km²)  Growth Rate  World Population Percentage (2022)\n",
            "9     140  ARM       Armenia              Yerevan      Asia  2780469  2805608  2878595  2946293  3168523  3556539  3135123  2534377       29743            93.4831       0.9962                            0.000349\n",
            "15    154  BHR       Bahrain               Manama      Asia  1472233  1477469  1362142  1213645   711442   517418   362595   222555         765          1924.4876       1.0061                            0.000185\n",
            "23    165  BTN        Bhutan              Thimphu      Asia   782455   772506   743274   705516   587207   558442   415257   298894       38394            20.3796       1.0064                            0.000098\n",
            "29    175  BRN        Brunei  Bandar Seri Begawan      Asia   449002   441725   421437   396053   333926   261928   187921   133343        5765            77.8841       1.0081                            0.000056\n",
            "73    131  GEO       Georgia              Tbilisi      Asia  3744385  3765912  3771132  3836831  4265172  5391636  5145843  4800426       69700            53.7214       0.9964                            0.000470\n",
            "89    104  HKG     Hong Kong            Hong Kong      Asia  7488865  7500958  7399838  7132438  6731195  5838574  4978544  3955072        1104          6783.3922       0.9992                            0.000939\n",
            "108   129  KWT        Kuwait          Kuwait City      Asia  4268873  4360444  3908743  2943356  1934901  1674938  1493870   802786       17818           239.5821       1.0044                            0.000535\n",
            "109   110  KGZ    Kyrgyzstan              Bishkek      Asia  6630623  6424874  5914980  5483774  4935182  4394734  3691209  3016384      199951            33.1612       1.0158                            0.000832\n",
            "110   103  LAO          Laos            Vientiane      Asia  7529475  7319399  6787419  6323418  5430853  4314443  3297519  2675283      236800            31.7968       1.0141                            0.000944\n",
            "112   119  LBN       Lebanon               Beirut      Asia  5489739  5662923  6398940  4995800  4320642  3593700  2963702  2381791       10452           525.2334       0.9816                            0.000689\n",
            "119   167  MAC         Macau    Concelho de Macau      Asia   695168   676283   615239   557297   431896   350227   245332   247284          30         23172.2667       1.0125                            0.000087\n",
            "123   174  MDV      Maldives                MalÃ©      Asia   523787   514438   435582   361575   282507   224957   164887   123243         300          1745.9567       1.0045                            0.000066\n",
            "135   134  MNG      Mongolia          Ulaanbaatar      Asia  3398366  3294335  2964749  2702520  2450979  2161433  1697780  1293880     1564110             2.1727       1.0151                            0.000426\n",
            "155   127  OMN          Oman               Muscat      Asia  4576298  4543399  4191776  2881914  2344253  1804524  1017462   670693      309500            14.7861       1.0123                            0.000574\n",
            "158   122  PSE     Palestine             Ramallah      Asia  5250072  5019401  4484614  3992278  3139954  2124609  1453620  1118241        6220           844.0630       1.0227                            0.000658\n",
            "167   143  QAT         Qatar                 Doha      Asia  2695122  2760385  2414573  1713504   645937   441675   277450   118007       11586           232.6189       1.0026                            0.000338\n",
            "187   113  SGP     Singapore            Singapore      Asia  5975689  5909869  5650018  5163590  4053602  3022209  2400729  2061831         710          8416.4634       1.0058                            0.000749\n",
            "207   155  TLS   Timor-Leste                 Dili      Asia  1341296  1299995  1205813  1088486   878360   758106   642224   554021       14874            90.1772       1.0154                            0.000168\n",
            "214   111  TKM  Turkmenistan             Ashgabat      Asia  6430770  6250438  5766431  5267970  4569132  3720278  2862903  2201432      488100            13.1751       1.0140                            0.000807\n"
          ]
        }
      ]
    },
    {
      "cell_type": "code",
      "source": [
        "# filtering using query method\n",
        "\n",
        "query_filter = df.query(\"Rank < 60 and Continent == 'North America'\") # showing countries from North America ranking less than 60 on the list\n",
        "print(query_filter)"
      ],
      "metadata": {
        "id": "8OHluaCbUCih",
        "colab": {
          "base_uri": "https://localhost:8080/"
        },
        "outputId": "0cdc533d-b1bd-425f-d88d-509dada3a8ff"
      },
      "execution_count": 42,
      "outputs": [
        {
          "output_type": "stream",
          "name": "stdout",
          "text": [
            "     Rank CCA3        Country           Capital      Continent       2022       2020       2015       2010       2000       1990       1980       1970  Area (km²)  Density (per km²)  Growth Rate  World Population Percentage (2022)\n",
            "35     39  CAN         Canada            Ottawa  North America   38454327   37888705   35732126   33963412   30683313   27657204   24511510   21434577     9984670             3.8513       1.0078                            0.004823\n",
            "131    10  MEX         Mexico       Mexico City  North America  127504125  125998302  120149897  112532401   97873442   81720428   67705186   50289306     1964375            64.9082       1.0063                            0.015991\n",
            "221     3  USA  United States  Washington, D.C.  North America  338289857  335942003  324607776  311182845  282398554  248083732  223140018  200328340     9372610            36.0935       1.0038                            0.042427\n"
          ]
        }
      ]
    },
    {
      "cell_type": "code",
      "source": [
        "# using matplotlib to create a line chart showing the change in population for each continent over time\n",
        "\n",
        "line_continent_group = df.groupby('Continent').sum().drop(['Rank', 'CCA3', 'Country', 'Capital', 'Area (km²)', 'Density (per km²)', 'Growth Rate', 'World Population Percentage (2022)'], axis = 1)\n",
        "line_continent_group = line_continent_group.T # switching rows and columns for better visualisation\n",
        "\n",
        "plt.figure(figsize=(15, 6))\n",
        "for continent in line_continent_group.columns:\n",
        "  plt.plot(line_continent_group.index, line_continent_group[continent], marker = 'o', label = continent)\n",
        "\n",
        "plt.title('World population over time by continent')\n",
        "plt.xlabel('')\n",
        "plt.ylabel('Population in billions')\n",
        "plt.legend()\n",
        "plt.tight_layout()\n",
        "plt.grid(True)\n",
        "plt.show()"
      ],
      "metadata": {
        "id": "fSSLqWLAzP2J",
        "colab": {
          "base_uri": "https://localhost:8080/",
          "height": 456
        },
        "outputId": "a820eb16-e864-4669-a4fd-4efe7fbb2309"
      },
      "execution_count": 87,
      "outputs": [
        {
          "output_type": "display_data",
          "data": {
            "text/plain": [
              "<Figure size 1500x600 with 1 Axes>"
            ],
            "image/png": "[encoded data removed]"
          },
          "metadata": {}
        }
      ]
    },
    {
      "cell_type": "code",
      "source": [
        "# using seaborn to create a bar chart visualising population for every continent\n",
        "\n",
        "total_population_2022 = df.groupby('Continent')[2022].sum().reset_index() # grouping data by continent and suming the population numbers for 2022\n",
        "\n",
        "plt.figure(figsize=(8, 6))\n",
        "sns.barplot(x = 'Continent', y = 2022, data = total_population_2022, palette = 'muted')\n",
        "warnings.filterwarnings(\"ignore\", category = FutureWarning) # there was some strange warning regarding pallette in seaborn, got to remove it\n",
        "plt.title('Total population by continent')\n",
        "plt.xlabel('')\n",
        "plt.ylabel('Population in billions')\n",
        "plt.show()"
      ],
      "metadata": {
        "id": "oi8mfkOKzxlw",
        "colab": {
          "base_uri": "https://localhost:8080/",
          "height": 545
        },
        "outputId": "6a99c7f9-cb29-47ac-c30b-35e1d1fdeed4"
      },
      "execution_count": 86,
      "outputs": [
        {
          "output_type": "display_data",
          "data": {
            "text/plain": [
              "<Figure size 800x600 with 1 Axes>"
            ],
            "image/png": "[encoded data removed]"
          },
          "metadata": {}
        }
      ]
    },
    {
      "cell_type": "code",
      "source": [
        "# exporting to CSV\n",
        "\n",
        "df.to_csv('population_database.csv', index=False)"
      ],
      "metadata": {
        "id": "MqURYomyRP-s"
      },
      "execution_count": null,
      "outputs": []
    }
  ]
}