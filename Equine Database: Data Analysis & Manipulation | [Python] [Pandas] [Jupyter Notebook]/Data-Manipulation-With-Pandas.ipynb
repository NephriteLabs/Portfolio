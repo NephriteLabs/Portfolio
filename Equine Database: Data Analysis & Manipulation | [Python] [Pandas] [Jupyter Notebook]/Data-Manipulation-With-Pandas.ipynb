{
  "nbformat": 4,
  "nbformat_minor": 0,
  "metadata": {
    "colab": {
      "provenance": []
    },
    "kernelspec": {
      "name": "python3",
      "display_name": "Python 3"
    },
    "language_info": {
      "name": "python"
    }
  },
  "cells": [
    {
      "cell_type": "code",
      "execution_count": 30,
      "metadata": {
        "id": "t30EJskeFVa4"
      },
      "outputs": [],
      "source": [
        "# importing pandas library in python\n",
        "\n",
        "import pandas as pd"
      ]
    },
    {
      "cell_type": "code",
      "source": [
        "# creating a database\n",
        "\n",
        "database =  {'Breed': ['Arabian', 'Thoroughbred', 'American Quarter Horse', 'Friesian', 'Andalusian'],\n",
        "             'Origin': ['Arabian Peninsula', 'England', 'United States', 'Netherlands', 'Spain'],\n",
        "             'Height': [142, 163, 152, 155, 157],  # shown in centimeters\n",
        "             'Weight': [408, 498, 544, 589, 498],  # shown in kilograms\n",
        "             'Temperament': ['Energetic and alert', 'Energetic and spirited', 'Gentle and willing', 'Gentle and calm', 'Noble and docile'],\n",
        "             'Historical Significance': ['Ancient breed known for endurance', 'Developed for horse racing', 'Developed for short-distance racing and cattle work', 'One of the oldest European horse breeds', 'Historically used in warfare and dressage'],\n",
        "             'Description': ['Known for endurance and stamina', 'Known for speed and agility', 'Known for versatility and speed over short distances', 'Known for its elegant appearance and gentle temperament', 'Known for its athleticism and versatility']}"
      ],
      "metadata": {
        "id": "FaCaUJt0FjCR"
      },
      "execution_count": 31,
      "outputs": []
    },
    {
      "cell_type": "code",
      "source": [
        "# adding DataFrame to the table together with the formatting specs\n",
        "\n",
        "horses_df = pd.DataFrame(database)\n",
        "pd.set_option('display.expand_frame_repr', False) # expanding the table to show it in one row\n",
        "pd.set_option('display.max_colwidth', 40)  # set maximum column width to 40 characters\n",
        "print(horses_df)"
      ],
      "metadata": {
        "colab": {
          "base_uri": "https://localhost:8080/"
        },
        "id": "CDFs-o2zGxkj",
        "outputId": "dd0749bc-a63e-4742-b038-b7c302d6cb99"
      },
      "execution_count": 32,
      "outputs": [
        {
          "output_type": "stream",
          "name": "stdout",
          "text": [
            "                    Breed             Origin  Height  Weight             Temperament                  Historical Significance                              Description\n",
            "0                 Arabian  Arabian Peninsula     142     408     Energetic and alert        Ancient breed known for endurance          Known for endurance and stamina\n",
            "1            Thoroughbred            England     163     498  Energetic and spirited               Developed for horse racing              Known for speed and agility\n",
            "2  American Quarter Horse      United States     152     544      Gentle and willing  Developed for short-distance racing ...  Known for versatility and speed over...\n",
            "3                Friesian        Netherlands     155     589         Gentle and calm  One of the oldest European horse breeds  Known for its elegant appearance and...\n",
            "4              Andalusian              Spain     157     498        Noble and docile  Historically used in warfare and dre...  Known for its athleticism and versat...\n"
          ]
        }
      ]
    },
    {
      "cell_type": "code",
      "source": [
        "# displaying the first 3 rows of the DataFrame using head function\n",
        "\n",
        "print(horses_df.head(3))"
      ],
      "metadata": {
        "colab": {
          "base_uri": "https://localhost:8080/"
        },
        "id": "yrCbQMGOSvFx",
        "outputId": "0d80fa13-73cb-4506-e5a7-60219dd65c4d"
      },
      "execution_count": 50,
      "outputs": [
        {
          "output_type": "stream",
          "name": "stdout",
          "text": [
            "                    Breed             Origin  Height  Weight             Temperament                  Historical Significance                              Description    Colour\n",
            "0                 Arabian  Arabian Peninsula     142     408     Energetic and alert        Ancient breed known for endurance          Known for endurance and stamina     Black\n",
            "1            Thoroughbred            England     163     498  Energetic and spirited               Developed for horse racing              Known for speed and agility  Chestnut\n",
            "2  American Quarter Horse      United States     152     544      Gentle and willing  Developed for short-distance racing ...  Known for versatility and speed over...      Grey\n"
          ]
        }
      ]
    },
    {
      "cell_type": "code",
      "source": [
        "# displaying the last 2 rows of the DataFrame using tail function\n",
        "\n",
        "print(horses_df.tail(2))"
      ],
      "metadata": {
        "colab": {
          "base_uri": "https://localhost:8080/"
        },
        "id": "aDmO_C4lSvwy",
        "outputId": "e5807dfe-47c2-4ce5-c065-33337716502b"
      },
      "execution_count": 51,
      "outputs": [
        {
          "output_type": "stream",
          "name": "stdout",
          "text": [
            "        Breed       Origin  Height  Weight       Temperament                  Historical Significance                              Description  Colour\n",
            "3    Friesian  Netherlands     155     589   Gentle and calm  One of the oldest European horse breeds  Known for its elegant appearance and...   Brown\n",
            "4  Andalusian        Spain     157     498  Noble and docile  Historically used in warfare and dre...  Known for its athleticism and versat...  Golden\n"
          ]
        }
      ]
    },
    {
      "cell_type": "code",
      "source": [
        "# summary statistics of numerical columns in the dataset using describe function\n",
        "\n",
        "print(horses_df.describe())"
      ],
      "metadata": {
        "colab": {
          "base_uri": "https://localhost:8080/"
        },
        "id": "RHWduFWhSv41",
        "outputId": "4a7b66ae-d717-44e7-bd17-25506a425043"
      },
      "execution_count": 52,
      "outputs": [
        {
          "output_type": "stream",
          "name": "stdout",
          "text": [
            "           Height     Weight\n",
            "count    5.000000    5.00000\n",
            "mean   153.800000  507.40000\n",
            "std      7.726578   67.18482\n",
            "min    142.000000  408.00000\n",
            "25%    152.000000  498.00000\n",
            "50%    155.000000  498.00000\n",
            "75%    157.000000  544.00000\n",
            "max    163.000000  589.00000\n"
          ]
        }
      ]
    },
    {
      "cell_type": "code",
      "source": [
        "# accessing an Origin column\n",
        "\n",
        "name_column = horses_df['Origin']\n",
        "print(name_column)"
      ],
      "metadata": {
        "id": "0-ZviidlIlv-",
        "colab": {
          "base_uri": "https://localhost:8080/"
        },
        "outputId": "5a68afe7-ec48-409a-9fe4-1dce16e9a46a"
      },
      "execution_count": 33,
      "outputs": [
        {
          "output_type": "stream",
          "name": "stdout",
          "text": [
            "0    Arabian Peninsula\n",
            "1              England\n",
            "2        United States\n",
            "3          Netherlands\n",
            "4                Spain\n",
            "Name: Origin, dtype: object\n"
          ]
        }
      ]
    },
    {
      "cell_type": "code",
      "source": [
        "# accessing third row using .loc[]\n",
        "\n",
        "row_3 = horses_df.loc[2]\n",
        "pd.set_option('display.max_colwidth', None)  # show full content of columns\n",
        "print(row_3)"
      ],
      "metadata": {
        "id": "j_9IpSHOKRRO",
        "colab": {
          "base_uri": "https://localhost:8080/"
        },
        "outputId": "03d17cdc-5d39-4e96-ae8f-46f7f4a738d4"
      },
      "execution_count": 34,
      "outputs": [
        {
          "output_type": "stream",
          "name": "stdout",
          "text": [
            "Breed                                                    American Quarter Horse\n",
            "Origin                                                            United States\n",
            "Height                                                                      152\n",
            "Weight                                                                      544\n",
            "Temperament                                                  Gentle and willing\n",
            "Historical Significance     Developed for short-distance racing and cattle work\n",
            "Description                Known for versatility and speed over short distances\n",
            "Name: 2, dtype: object\n"
          ]
        }
      ]
    },
    {
      "cell_type": "code",
      "source": [
        "# accessing second value in the Temperament column using .loc[]\n",
        "\n",
        "column = 'Temperament'\n",
        "index = 2\n",
        "temperament_value = horses_df.loc[index, column]\n",
        "print(f\"Accessing the {column} value of the row with index {index}:\")\n",
        "print() # adding a blank line for formatting purposes\n",
        "print(temperament_value)"
      ],
      "metadata": {
        "id": "bFEXyrUdJhPG",
        "colab": {
          "base_uri": "https://localhost:8080/"
        },
        "outputId": "89ccba4a-e20e-438f-cad5-7c5b8ee658b5"
      },
      "execution_count": 35,
      "outputs": [
        {
          "output_type": "stream",
          "name": "stdout",
          "text": [
            "Accessing the Temperament value of the row with index 2:\n",
            "\n",
            "Gentle and willing\n"
          ]
        }
      ]
    },
    {
      "cell_type": "code",
      "source": [
        "# accessing first row using .iloc[]\n",
        "\n",
        "row_1 = horses_df.iloc[0]\n",
        "print(row_1)"
      ],
      "metadata": {
        "id": "wGw-0QBrKW-r",
        "colab": {
          "base_uri": "https://localhost:8080/"
        },
        "outputId": "006f3d52-84ef-4685-c063-475e4bd8315d"
      },
      "execution_count": 36,
      "outputs": [
        {
          "output_type": "stream",
          "name": "stdout",
          "text": [
            "Breed                                                Arabian\n",
            "Origin                                     Arabian Peninsula\n",
            "Height                                                   142\n",
            "Weight                                                   408\n",
            "Temperament                              Energetic and alert\n",
            "Historical Significance    Ancient breed known for endurance\n",
            "Description                  Known for endurance and stamina\n",
            "Name: 0, dtype: object\n"
          ]
        }
      ]
    },
    {
      "cell_type": "code",
      "source": [
        "# finding horses that are usually found in England using .iloc[]\n",
        "\n",
        "england_row_index = horses_df[horses_df['Origin'] == 'England'].index[0] # locating the index of the row where the 'Origin' column has the value 'England'\n",
        "england_origin = horses_df.at[england_row_index, 'Origin'] # getting the value of the 'Origin' column for horses from England\n",
        "england_horse_info = horses_df.loc[england_row_index] # getting info on horses from England\n",
        "\n",
        "print(f\"These horses are usually found in {england_origin}:\")\n",
        "print()\n",
        "print(england_horse_info)"
      ],
      "metadata": {
        "id": "Es5wgEfAJ3GH",
        "colab": {
          "base_uri": "https://localhost:8080/"
        },
        "outputId": "921d4780-8831-4bff-f78d-c520374ebfb0"
      },
      "execution_count": 37,
      "outputs": [
        {
          "output_type": "stream",
          "name": "stdout",
          "text": [
            "These horses are usually found in England:\n",
            "\n",
            "Breed                                     Thoroughbred\n",
            "Origin                                         England\n",
            "Height                                             163\n",
            "Weight                                             498\n",
            "Temperament                     Energetic and spirited\n",
            "Historical Significance     Developed for horse racing\n",
            "Description                Known for speed and agility\n",
            "Name: 1, dtype: object\n"
          ]
        }
      ]
    },
    {
      "cell_type": "code",
      "source": [
        "# selecting Breed column using square brackets\n",
        "\n",
        "breed_column = horses_df['Breed']\n",
        "print(\"Selected 'Breed' column:\")\n",
        "print()\n",
        "print(name_column)"
      ],
      "metadata": {
        "id": "jUEIcPWBK8T1",
        "colab": {
          "base_uri": "https://localhost:8080/"
        },
        "outputId": "5a931bf1-e460-4611-820a-f892978555c3"
      },
      "execution_count": 38,
      "outputs": [
        {
          "output_type": "stream",
          "name": "stdout",
          "text": [
            "Selected 'Breed' column:\n",
            "\n",
            "0    Arabian Peninsula\n",
            "1              England\n",
            "2        United States\n",
            "3          Netherlands\n",
            "4                Spain\n",
            "Name: Origin, dtype: object\n"
          ]
        }
      ]
    },
    {
      "cell_type": "code",
      "source": [
        "# selecting multiple columns, Breed and Description\n",
        "\n",
        "selected_columns = horses_df[['Breed', 'Description']]\n",
        "print(\"\\nSelected Breed and Description columns:\")\n",
        "pd.set_option('display.max_colwidth', None)  # show full content of columns\n",
        "print()\n",
        "print(selected_columns)"
      ],
      "metadata": {
        "id": "McrANYGuLHVm",
        "colab": {
          "base_uri": "https://localhost:8080/"
        },
        "outputId": "99f3c120-19fc-4685-82f2-c5fbaaf7efff"
      },
      "execution_count": 39,
      "outputs": [
        {
          "output_type": "stream",
          "name": "stdout",
          "text": [
            "\n",
            "Selected Breed and Description columns:\n",
            "\n",
            "                    Breed                                              Description\n",
            "0                 Arabian                          Known for endurance and stamina\n",
            "1            Thoroughbred                              Known for speed and agility\n",
            "2  American Quarter Horse     Known for versatility and speed over short distances\n",
            "3                Friesian  Known for its elegant appearance and gentle temperament\n",
            "4              Andalusian                Known for its athleticism and versatility\n"
          ]
        }
      ]
    },
    {
      "cell_type": "code",
      "source": [
        "# selecting multiple rows with indices 0 and 4\n",
        "\n",
        "selected_rows_loc = horses_df.loc[[0, 4]]\n",
        "print(\"\\nSelected rows with indices 0 and 4 using .loc[]:\")\n",
        "pd.set_option('display.max_colwidth', 40)  # set maximum column width to 40 characters\n",
        "print()\n",
        "print(selected_rows_loc)"
      ],
      "metadata": {
        "id": "QZcW2CeqLM1-",
        "colab": {
          "base_uri": "https://localhost:8080/"
        },
        "outputId": "f6843225-2dd4-42af-de42-d19abe46e2c4"
      },
      "execution_count": 40,
      "outputs": [
        {
          "output_type": "stream",
          "name": "stdout",
          "text": [
            "\n",
            "Selected rows with indices 0 and 4 using .loc[]:\n",
            "\n",
            "        Breed             Origin  Height  Weight          Temperament                  Historical Significance                              Description\n",
            "0     Arabian  Arabian Peninsula     142     408  Energetic and alert        Ancient breed known for endurance          Known for endurance and stamina\n",
            "4  Andalusian              Spain     157     498     Noble and docile  Historically used in warfare and dre...  Known for its athleticism and versat...\n"
          ]
        }
      ]
    },
    {
      "cell_type": "code",
      "source": [
        "# using .iloc[] to select rows by integer index\n",
        "\n",
        "row_2 = horses_df.iloc[1]\n",
        "print(\"\\nSelected row with integer index 1:\")\n",
        "print(row_2)"
      ],
      "metadata": {
        "id": "3A2bFHBoLQPX",
        "colab": {
          "base_uri": "https://localhost:8080/"
        },
        "outputId": "ff8d4b15-4563-4611-f384-0c9cd0de0485"
      },
      "execution_count": 41,
      "outputs": [
        {
          "output_type": "stream",
          "name": "stdout",
          "text": [
            "\n",
            "Selected row with integer index 1:\n",
            "Breed                                     Thoroughbred\n",
            "Origin                                         England\n",
            "Height                                             163\n",
            "Weight                                             498\n",
            "Temperament                     Energetic and spirited\n",
            "Historical Significance     Developed for horse racing\n",
            "Description                Known for speed and agility\n",
            "Name: 1, dtype: object\n"
          ]
        }
      ]
    },
    {
      "cell_type": "code",
      "source": [
        "# selecting multiple rows with integer indices 1 and 3\n",
        "\n",
        "selected_rows_iloc = horses_df.iloc[[1, 3]]\n",
        "print(\"\\nSelected rows with integer indices 1 and 3 using .iloc[]:\")\n",
        "print(selected_rows_iloc)"
      ],
      "metadata": {
        "id": "sAG-7MWPLR4C",
        "colab": {
          "base_uri": "https://localhost:8080/"
        },
        "outputId": "d47a57f0-c011-49fe-f7f1-aad3a0fd650e"
      },
      "execution_count": 42,
      "outputs": [
        {
          "output_type": "stream",
          "name": "stdout",
          "text": [
            "\n",
            "Selected rows with integer indices 1 and 3 using .iloc[]:\n",
            "          Breed       Origin  Height  Weight             Temperament                  Historical Significance                              Description\n",
            "1  Thoroughbred      England     163     498  Energetic and spirited               Developed for horse racing              Known for speed and agility\n",
            "3      Friesian  Netherlands     155     589         Gentle and calm  One of the oldest European horse breeds  Known for its elegant appearance and...\n"
          ]
        }
      ]
    },
    {
      "cell_type": "code",
      "source": [
        "# assigning values to a new column Colour\n",
        "\n",
        "horses_df['Colour'] = ['Black', 'Chestnut', 'Grey', 'Brown', 'White']\n",
        "pd.set_option('display.max_colwidth', 40)  # set maximum column width to 40 characters\n",
        "print(\"\\nDataFrame with a new column Colour:\")\n",
        "print()\n",
        "print(horses_df)"
      ],
      "metadata": {
        "id": "eVMtQLUqLvCW",
        "colab": {
          "base_uri": "https://localhost:8080/"
        },
        "outputId": "d7d4fa5f-6976-4b2a-cafe-9596f4617641"
      },
      "execution_count": 43,
      "outputs": [
        {
          "output_type": "stream",
          "name": "stdout",
          "text": [
            "\n",
            "DataFrame with a new column Colour:\n",
            "\n",
            "                    Breed             Origin  Height  Weight             Temperament                  Historical Significance                              Description    Colour\n",
            "0                 Arabian  Arabian Peninsula     142     408     Energetic and alert        Ancient breed known for endurance          Known for endurance and stamina     Black\n",
            "1            Thoroughbred            England     163     498  Energetic and spirited               Developed for horse racing              Known for speed and agility  Chestnut\n",
            "2  American Quarter Horse      United States     152     544      Gentle and willing  Developed for short-distance racing ...  Known for versatility and speed over...      Grey\n",
            "3                Friesian        Netherlands     155     589         Gentle and calm  One of the oldest European horse breeds  Known for its elegant appearance and...     Brown\n",
            "4              Andalusian              Spain     157     498        Noble and docile  Historically used in warfare and dre...  Known for its athleticism and versat...     White\n"
          ]
        }
      ]
    },
    {
      "cell_type": "code",
      "source": [
        "# assigning new value to row 4 in Colour column using .loc[]\n",
        "\n",
        "horses_df.loc[4, ['Colour']] = ['Golden']\n",
        "print(\"\\nDataFrame after updating values for row with index 4:\")\n",
        "print(horses_df)"
      ],
      "metadata": {
        "id": "L93iV5wKLxyx",
        "colab": {
          "base_uri": "https://localhost:8080/"
        },
        "outputId": "64cf32db-0e12-4f8e-b491-169234536bc4"
      },
      "execution_count": 44,
      "outputs": [
        {
          "output_type": "stream",
          "name": "stdout",
          "text": [
            "\n",
            "DataFrame after updating values for row with index 4:\n",
            "                    Breed             Origin  Height  Weight             Temperament                  Historical Significance                              Description    Colour\n",
            "0                 Arabian  Arabian Peninsula     142     408     Energetic and alert        Ancient breed known for endurance          Known for endurance and stamina     Black\n",
            "1            Thoroughbred            England     163     498  Energetic and spirited               Developed for horse racing              Known for speed and agility  Chestnut\n",
            "2  American Quarter Horse      United States     152     544      Gentle and willing  Developed for short-distance racing ...  Known for versatility and speed over...      Grey\n",
            "3                Friesian        Netherlands     155     589         Gentle and calm  One of the oldest European horse breeds  Known for its elegant appearance and...     Brown\n",
            "4              Andalusian              Spain     157     498        Noble and docile  Historically used in warfare and dre...  Known for its athleticism and versat...    Golden\n"
          ]
        }
      ]
    },
    {
      "cell_type": "code",
      "source": [
        "# sorting data\n",
        "\n",
        "# sorted_weight = horses_df.sort_values(by='Weight', ascending=True) # sort data on average horse weight in ascending order\n",
        "sorted_height = horses_df.sort_values(by='Height', ascending=False) # sort data on average horse height in descending order\n",
        "\n",
        "# print(\"\\nAverage horse weight sorted in ascending order:\")\n",
        "print(\"\\nAverage horse height sorted in descending order:\")\n",
        "\n",
        "print()\n",
        "pd.set_option('display.expand_frame_repr', False)\n",
        "print(sorted_height)"
      ],
      "metadata": {
        "id": "rD-MbWRQZZKt",
        "colab": {
          "base_uri": "https://localhost:8080/"
        },
        "outputId": "a8d85303-c823-4643-d1ac-eb467fada186"
      },
      "execution_count": 45,
      "outputs": [
        {
          "output_type": "stream",
          "name": "stdout",
          "text": [
            "\n",
            "Average horse height sorted in descending order:\n",
            "\n",
            "                    Breed             Origin  Height  Weight             Temperament                  Historical Significance                              Description    Colour\n",
            "1            Thoroughbred            England     163     498  Energetic and spirited               Developed for horse racing              Known for speed and agility  Chestnut\n",
            "4              Andalusian              Spain     157     498        Noble and docile  Historically used in warfare and dre...  Known for its athleticism and versat...    Golden\n",
            "3                Friesian        Netherlands     155     589         Gentle and calm  One of the oldest European horse breeds  Known for its elegant appearance and...     Brown\n",
            "2  American Quarter Horse      United States     152     544      Gentle and willing  Developed for short-distance racing ...  Known for versatility and speed over...      Grey\n",
            "0                 Arabian  Arabian Peninsula     142     408     Energetic and alert        Ancient breed known for endurance          Known for endurance and stamina     Black\n"
          ]
        }
      ]
    },
    {
      "cell_type": "code",
      "source": [
        "# grouping data\n",
        "\n",
        "grouped_data = horses_df.groupby('Origin').agg({'Height': 'max'}) # grouping the data by origin, calculating the maximum value of the Height column for each group\n",
        "print(\"\\nGrouped data with aggregate statistics:\")\n",
        "print()\n",
        "print(grouped_data)"
      ],
      "metadata": {
        "id": "zRZI7G2rZg_Z",
        "colab": {
          "base_uri": "https://localhost:8080/"
        },
        "outputId": "d845bb43-9718-484b-9e12-50c9c075cd3e"
      },
      "execution_count": 46,
      "outputs": [
        {
          "output_type": "stream",
          "name": "stdout",
          "text": [
            "\n",
            "Grouped data with aggregate statistics:\n",
            "\n",
            "                   Height\n",
            "Origin                   \n",
            "Arabian Peninsula     142\n",
            "England               163\n",
            "Netherlands           155\n",
            "Spain                 157\n",
            "United States         152\n"
          ]
        }
      ]
    },
    {
      "cell_type": "code",
      "source": [
        "# applying basic filter\n",
        "\n",
        "filtered_data = horses_df[horses_df.Temperament != 'Energetic and alert'] # filter data for a horse with temperament other than Energetic and alert\n",
        "print(\"\\nPick these horses:\")\n",
        "print()\n",
        "pd.set_option('display.expand_frame_repr', False)\n",
        "print(filtered_data)"
      ],
      "metadata": {
        "colab": {
          "base_uri": "https://localhost:8080/"
        },
        "id": "qlO6STfBUCiW",
        "outputId": "0ec71ac8-8aae-44c8-8a1a-620038417aae"
      },
      "execution_count": 47,
      "outputs": [
        {
          "output_type": "stream",
          "name": "stdout",
          "text": [
            "\n",
            "Pick these horses:\n",
            "\n",
            "                    Breed         Origin  Height  Weight             Temperament                  Historical Significance                              Description    Colour\n",
            "1            Thoroughbred        England     163     498  Energetic and spirited               Developed for horse racing              Known for speed and agility  Chestnut\n",
            "2  American Quarter Horse  United States     152     544      Gentle and willing  Developed for short-distance racing ...  Known for versatility and speed over...      Grey\n",
            "3                Friesian    Netherlands     155     589         Gentle and calm  One of the oldest European horse breeds  Known for its elegant appearance and...     Brown\n",
            "4              Andalusian          Spain     157     498        Noble and docile  Historically used in warfare and dre...  Known for its athleticism and versat...    Golden\n"
          ]
        }
      ]
    },
    {
      "cell_type": "code",
      "source": [
        "# applying multiple filters\n",
        "\n",
        "multi_filter_data = horses_df[(horses_df['Origin'] == 'England') | (horses_df['Weight'] > 500)] #applying multiple filter to show horses which Origin is either England or their weight is over 500 kg\n",
        "print(multi_filter_data)"
      ],
      "metadata": {
        "colab": {
          "base_uri": "https://localhost:8080/"
        },
        "id": "P47dO7adUCih",
        "outputId": "a786a876-bcc7-409a-ae7f-0254944c2504"
      },
      "execution_count": 48,
      "outputs": [
        {
          "output_type": "stream",
          "name": "stdout",
          "text": [
            "                    Breed         Origin  Height  Weight             Temperament                  Historical Significance                              Description    Colour\n",
            "1            Thoroughbred        England     163     498  Energetic and spirited               Developed for horse racing              Known for speed and agility  Chestnut\n",
            "2  American Quarter Horse  United States     152     544      Gentle and willing  Developed for short-distance racing ...  Known for versatility and speed over...      Grey\n",
            "3                Friesian    Netherlands     155     589         Gentle and calm  One of the oldest European horse breeds  Known for its elegant appearance and...     Brown\n"
          ]
        }
      ]
    },
    {
      "cell_type": "code",
      "source": [
        "# using query method\n",
        "\n",
        "query_filter = horses_df.query(\"Weight > 560 and Temperament != 'Developed'\")\n",
        "print(query_filter)"
      ],
      "metadata": {
        "colab": {
          "base_uri": "https://localhost:8080/"
        },
        "id": "8OHluaCbUCih",
        "outputId": "67becf65-e5b1-433a-dbb4-177c95288224"
      },
      "execution_count": 49,
      "outputs": [
        {
          "output_type": "stream",
          "name": "stdout",
          "text": [
            "      Breed       Origin  Height  Weight      Temperament                  Historical Significance                              Description Colour\n",
            "3  Friesian  Netherlands     155     589  Gentle and calm  One of the oldest European horse breeds  Known for its elegant appearance and...  Brown\n"
          ]
        }
      ]
    },
    {
      "cell_type": "code",
      "source": [
        "# exporting DataFrame to CSV and Excel formats\n",
        "\n",
        "horses_df.to_csv('horses_database.csv', index=False)\n",
        "# horses_df.to_excel('horses_database.xlsx', index=False, sheet_name='Sheet1')"
      ],
      "metadata": {
        "id": "MqURYomyRP-s"
      },
      "execution_count": 53,
      "outputs": []
    }
  ]
}