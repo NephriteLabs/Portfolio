{
  "nbformat": 4,
  "nbformat_minor": 0,
  "metadata": {
    "colab": {
      "private_outputs": true,
      "provenance": []
    },
    "kernelspec": {
      "name": "python3",
      "display_name": "Python 3"
    },
    "language_info": {
      "name": "python"
    }
  },
  "cells": [
    {
      "cell_type": "code",
      "execution_count": null,
      "metadata": {
        "id": "cv5fR3TXVHqk"
      },
      "outputs": [],
      "source": [
        "# importing libraries to make aт API request\n",
        "import requests\n",
        "import textwrap\n",
        "import json\n",
        "import seaborn as sns\n",
        "import pandas as pd\n",
        "import matplotlib.pyplot as plt\n",
        "from datetime import datetime"
      ]
    },
    {
      "cell_type": "code",
      "source": [
        "cat_facts_number = 100 # retrieving 100 facts about cats\n",
        "fact_data = [] # adding an array to put data from the loop into\n",
        "\n",
        "for i in range(1, cat_facts_number + 1): # iterating through the number of cat facts, starting from 1\n",
        "    fact_response = requests.get('https://catfact.ninja/fact') # sending get request to api to get the data\n",
        "    cat_fact = json.loads(fact_response.text)['fact']\n",
        "    current_time = datetime.now().strftime('%Y-%m-%d %H:%M:%S') # adding current date and time\n",
        "    fact_data.append({'Date': current_time, 'Fact': cat_fact})\n",
        "\n",
        "df = pd.DataFrame(fact_data)\n",
        "df.index += 1 # change index to start from 1\n",
        "\n",
        "pd.options.display.width = 250 # increasing the width of the display window\n",
        "pd.set_option('display.max_rows', None) # display all rows\n",
        "pd.set_option('display.max_colwidth', 180) # display max column width\n",
        "\n",
        "print(f\"\\nLet's get {cat_facts_number} facts about cats:\")\n",
        "print() # blank space\n",
        "print(df)\n",
        "\n",
        "fact_length = df['Fact'].apply(len)\n",
        "print()\n",
        "fig = plt.figure(figsize = (8, 5))\n",
        "sns.histplot(data = df, x = fact_length, bins = 10, color = 'darkgreen', alpha = 0.7)\n",
        "plt.title('Distribution of cat facts by length')\n",
        "plt.xlabel('Length')\n",
        "plt.ylabel('Frequency')\n",
        "plt.show()"
      ],
      "metadata": {
        "id": "z1fSyxtoXSxk"
      },
      "execution_count": null,
      "outputs": []
    }
  ]
}